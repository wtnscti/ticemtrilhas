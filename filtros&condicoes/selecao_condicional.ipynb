{
  "metadata": {
    "language_info": {
      "codemirror_mode": {
        "name": "python",
        "version": 3
      },
      "file_extension": ".py",
      "mimetype": "text/x-python",
      "name": "python",
      "nbconvert_exporter": "python",
      "pygments_lexer": "ipython3",
      "version": "3.8"
    },
    "kernelspec": {
      "name": "python",
      "display_name": "Python (Pyodide)",
      "language": "python"
    }
  },
  "nbformat_minor": 4,
  "nbformat": 4,
  "cells": [
    {
      "cell_type": "code",
      "source": "import pandas as pd",
      "metadata": {
        "trusted": true
      },
      "execution_count": 7,
      "outputs": []
    },
    {
      "cell_type": "code",
      "source": "tabela = pd.read_csv('../../data/aulas/temperaturas.csv')",
      "metadata": {
        "trusted": true
      },
      "execution_count": 8,
      "outputs": []
    },
    {
      "cell_type": "code",
      "source": "tabela.head(7)",
      "metadata": {
        "trusted": true
      },
      "execution_count": 10,
      "outputs": [
        {
          "execution_count": 10,
          "output_type": "execute_result",
          "data": {
            "text/plain": "   dia    clima  temperatura  vento  umidade\n0  seg      sol        12.79     13       30\n1  ter      sol        19.67     28       96\n2  qua      sol        17.51     16       20\n3  qui  nublado        14.44     11       22\n4  sex    chuva        10.51     26       79\n5  sab    chuva        11.07     27       62\n6  dom      sol        17.50     20       10",
            "text/html": "<div>\n<style scoped>\n    .dataframe tbody tr th:only-of-type {\n        vertical-align: middle;\n    }\n\n    .dataframe tbody tr th {\n        vertical-align: top;\n    }\n\n    .dataframe thead th {\n        text-align: right;\n    }\n</style>\n<table border=\"1\" class=\"dataframe\">\n  <thead>\n    <tr style=\"text-align: right;\">\n      <th></th>\n      <th>dia</th>\n      <th>clima</th>\n      <th>temperatura</th>\n      <th>vento</th>\n      <th>umidade</th>\n    </tr>\n  </thead>\n  <tbody>\n    <tr>\n      <th>0</th>\n      <td>seg</td>\n      <td>sol</td>\n      <td>12.79</td>\n      <td>13</td>\n      <td>30</td>\n    </tr>\n    <tr>\n      <th>1</th>\n      <td>ter</td>\n      <td>sol</td>\n      <td>19.67</td>\n      <td>28</td>\n      <td>96</td>\n    </tr>\n    <tr>\n      <th>2</th>\n      <td>qua</td>\n      <td>sol</td>\n      <td>17.51</td>\n      <td>16</td>\n      <td>20</td>\n    </tr>\n    <tr>\n      <th>3</th>\n      <td>qui</td>\n      <td>nublado</td>\n      <td>14.44</td>\n      <td>11</td>\n      <td>22</td>\n    </tr>\n    <tr>\n      <th>4</th>\n      <td>sex</td>\n      <td>chuva</td>\n      <td>10.51</td>\n      <td>26</td>\n      <td>79</td>\n    </tr>\n    <tr>\n      <th>5</th>\n      <td>sab</td>\n      <td>chuva</td>\n      <td>11.07</td>\n      <td>27</td>\n      <td>62</td>\n    </tr>\n    <tr>\n      <th>6</th>\n      <td>dom</td>\n      <td>sol</td>\n      <td>17.50</td>\n      <td>20</td>\n      <td>10</td>\n    </tr>\n  </tbody>\n</table>\n</div>"
          },
          "metadata": {}
        }
      ]
    },
    {
      "cell_type": "code",
      "source": "tabela = pd.read_csv('../../data/aulas/temperaturas.csv', index_col=['dia'])\ntabela.head(7)",
      "metadata": {
        "trusted": true
      },
      "execution_count": 11,
      "outputs": [
        {
          "execution_count": 11,
          "output_type": "execute_result",
          "data": {
            "text/plain": "       clima  temperatura  vento  umidade\ndia                                      \nseg      sol        12.79     13       30\nter      sol        19.67     28       96\nqua      sol        17.51     16       20\nqui  nublado        14.44     11       22\nsex    chuva        10.51     26       79\nsab    chuva        11.07     27       62\ndom      sol        17.50     20       10",
            "text/html": "<div>\n<style scoped>\n    .dataframe tbody tr th:only-of-type {\n        vertical-align: middle;\n    }\n\n    .dataframe tbody tr th {\n        vertical-align: top;\n    }\n\n    .dataframe thead th {\n        text-align: right;\n    }\n</style>\n<table border=\"1\" class=\"dataframe\">\n  <thead>\n    <tr style=\"text-align: right;\">\n      <th></th>\n      <th>clima</th>\n      <th>temperatura</th>\n      <th>vento</th>\n      <th>umidade</th>\n    </tr>\n    <tr>\n      <th>dia</th>\n      <th></th>\n      <th></th>\n      <th></th>\n      <th></th>\n    </tr>\n  </thead>\n  <tbody>\n    <tr>\n      <th>seg</th>\n      <td>sol</td>\n      <td>12.79</td>\n      <td>13</td>\n      <td>30</td>\n    </tr>\n    <tr>\n      <th>ter</th>\n      <td>sol</td>\n      <td>19.67</td>\n      <td>28</td>\n      <td>96</td>\n    </tr>\n    <tr>\n      <th>qua</th>\n      <td>sol</td>\n      <td>17.51</td>\n      <td>16</td>\n      <td>20</td>\n    </tr>\n    <tr>\n      <th>qui</th>\n      <td>nublado</td>\n      <td>14.44</td>\n      <td>11</td>\n      <td>22</td>\n    </tr>\n    <tr>\n      <th>sex</th>\n      <td>chuva</td>\n      <td>10.51</td>\n      <td>26</td>\n      <td>79</td>\n    </tr>\n    <tr>\n      <th>sab</th>\n      <td>chuva</td>\n      <td>11.07</td>\n      <td>27</td>\n      <td>62</td>\n    </tr>\n    <tr>\n      <th>dom</th>\n      <td>sol</td>\n      <td>17.50</td>\n      <td>20</td>\n      <td>10</td>\n    </tr>\n  </tbody>\n</table>\n</div>"
          },
          "metadata": {}
        }
      ]
    },
    {
      "cell_type": "code",
      "source": "tabela.iloc[4,:]",
      "metadata": {
        "trusted": true
      },
      "execution_count": 12,
      "outputs": [
        {
          "execution_count": 12,
          "output_type": "execute_result",
          "data": {
            "text/plain": "clima          chuva\ntemperatura    10.51\nvento             26\numidade           79\nName: sex, dtype: object"
          },
          "metadata": {}
        }
      ]
    },
    {
      "cell_type": "code",
      "source": "tabela.iloc[4,1]",
      "metadata": {
        "trusted": true
      },
      "execution_count": 13,
      "outputs": [
        {
          "execution_count": 13,
          "output_type": "execute_result",
          "data": {
            "text/plain": "10.51"
          },
          "metadata": {}
        }
      ]
    },
    {
      "cell_type": "code",
      "source": "tabela.loc['sex','temperatura']",
      "metadata": {
        "trusted": true
      },
      "execution_count": 14,
      "outputs": [
        {
          "execution_count": 14,
          "output_type": "execute_result",
          "data": {
            "text/plain": "10.51"
          },
          "metadata": {}
        }
      ]
    },
    {
      "cell_type": "code",
      "source": "dias = ['seg', 'qui', 'dom']\ninfo = ['clima', 'vento']",
      "metadata": {
        "trusted": true
      },
      "execution_count": 15,
      "outputs": []
    },
    {
      "cell_type": "code",
      "source": "tabela.loc[dias, info]",
      "metadata": {
        "trusted": true
      },
      "execution_count": 16,
      "outputs": [
        {
          "execution_count": 16,
          "output_type": "execute_result",
          "data": {
            "text/plain": "       clima  vento\ndia                \nseg      sol     13\nqui  nublado     11\ndom      sol     20",
            "text/html": "<div>\n<style scoped>\n    .dataframe tbody tr th:only-of-type {\n        vertical-align: middle;\n    }\n\n    .dataframe tbody tr th {\n        vertical-align: top;\n    }\n\n    .dataframe thead th {\n        text-align: right;\n    }\n</style>\n<table border=\"1\" class=\"dataframe\">\n  <thead>\n    <tr style=\"text-align: right;\">\n      <th></th>\n      <th>clima</th>\n      <th>vento</th>\n    </tr>\n    <tr>\n      <th>dia</th>\n      <th></th>\n      <th></th>\n    </tr>\n  </thead>\n  <tbody>\n    <tr>\n      <th>seg</th>\n      <td>sol</td>\n      <td>13</td>\n    </tr>\n    <tr>\n      <th>qui</th>\n      <td>nublado</td>\n      <td>11</td>\n    </tr>\n    <tr>\n      <th>dom</th>\n      <td>sol</td>\n      <td>20</td>\n    </tr>\n  </tbody>\n</table>\n</div>"
          },
          "metadata": {}
        }
      ]
    },
    {
      "cell_type": "code",
      "source": "tabela.loc[dias, :]",
      "metadata": {
        "trusted": true
      },
      "execution_count": 17,
      "outputs": [
        {
          "execution_count": 17,
          "output_type": "execute_result",
          "data": {
            "text/plain": "       clima  temperatura  vento  umidade\ndia                                      \nseg      sol        12.79     13       30\nqui  nublado        14.44     11       22\ndom      sol        17.50     20       10",
            "text/html": "<div>\n<style scoped>\n    .dataframe tbody tr th:only-of-type {\n        vertical-align: middle;\n    }\n\n    .dataframe tbody tr th {\n        vertical-align: top;\n    }\n\n    .dataframe thead th {\n        text-align: right;\n    }\n</style>\n<table border=\"1\" class=\"dataframe\">\n  <thead>\n    <tr style=\"text-align: right;\">\n      <th></th>\n      <th>clima</th>\n      <th>temperatura</th>\n      <th>vento</th>\n      <th>umidade</th>\n    </tr>\n    <tr>\n      <th>dia</th>\n      <th></th>\n      <th></th>\n      <th></th>\n      <th></th>\n    </tr>\n  </thead>\n  <tbody>\n    <tr>\n      <th>seg</th>\n      <td>sol</td>\n      <td>12.79</td>\n      <td>13</td>\n      <td>30</td>\n    </tr>\n    <tr>\n      <th>qui</th>\n      <td>nublado</td>\n      <td>14.44</td>\n      <td>11</td>\n      <td>22</td>\n    </tr>\n    <tr>\n      <th>dom</th>\n      <td>sol</td>\n      <td>17.50</td>\n      <td>20</td>\n      <td>10</td>\n    </tr>\n  </tbody>\n</table>\n</div>"
          },
          "metadata": {}
        }
      ]
    },
    {
      "cell_type": "code",
      "source": "tabela.loc['ter':'qui', ['temperatura', 'vento']]",
      "metadata": {
        "trusted": true
      },
      "execution_count": 19,
      "outputs": [
        {
          "execution_count": 19,
          "output_type": "execute_result",
          "data": {
            "text/plain": "     temperatura  vento\ndia                    \nter        19.67     28\nqua        17.51     16\nqui        14.44     11",
            "text/html": "<div>\n<style scoped>\n    .dataframe tbody tr th:only-of-type {\n        vertical-align: middle;\n    }\n\n    .dataframe tbody tr th {\n        vertical-align: top;\n    }\n\n    .dataframe thead th {\n        text-align: right;\n    }\n</style>\n<table border=\"1\" class=\"dataframe\">\n  <thead>\n    <tr style=\"text-align: right;\">\n      <th></th>\n      <th>temperatura</th>\n      <th>vento</th>\n    </tr>\n    <tr>\n      <th>dia</th>\n      <th></th>\n      <th></th>\n    </tr>\n  </thead>\n  <tbody>\n    <tr>\n      <th>ter</th>\n      <td>19.67</td>\n      <td>28</td>\n    </tr>\n    <tr>\n      <th>qua</th>\n      <td>17.51</td>\n      <td>16</td>\n    </tr>\n    <tr>\n      <th>qui</th>\n      <td>14.44</td>\n      <td>11</td>\n    </tr>\n  </tbody>\n</table>\n</div>"
          },
          "metadata": {}
        }
      ]
    },
    {
      "cell_type": "code",
      "source": "tabela.loc[tabela.umidade > 50,['clima']]",
      "metadata": {
        "trusted": true
      },
      "execution_count": 21,
      "outputs": [
        {
          "execution_count": 21,
          "output_type": "execute_result",
          "data": {
            "text/plain": "     clima\ndia       \nter    sol\nsex  chuva\nsab  chuva",
            "text/html": "<div>\n<style scoped>\n    .dataframe tbody tr th:only-of-type {\n        vertical-align: middle;\n    }\n\n    .dataframe tbody tr th {\n        vertical-align: top;\n    }\n\n    .dataframe thead th {\n        text-align: right;\n    }\n</style>\n<table border=\"1\" class=\"dataframe\">\n  <thead>\n    <tr style=\"text-align: right;\">\n      <th></th>\n      <th>clima</th>\n    </tr>\n    <tr>\n      <th>dia</th>\n      <th></th>\n    </tr>\n  </thead>\n  <tbody>\n    <tr>\n      <th>ter</th>\n      <td>sol</td>\n    </tr>\n    <tr>\n      <th>sex</th>\n      <td>chuva</td>\n    </tr>\n    <tr>\n      <th>sab</th>\n      <td>chuva</td>\n    </tr>\n  </tbody>\n</table>\n</div>"
          },
          "metadata": {}
        }
      ]
    },
    {
      "cell_type": "code",
      "source": "tabela.loc[(tabela.umidade > 50) & (tabela.clima == 'chuva'),:]",
      "metadata": {
        "trusted": true
      },
      "execution_count": 24,
      "outputs": [
        {
          "execution_count": 24,
          "output_type": "execute_result",
          "data": {
            "text/plain": "     clima  temperatura  vento  umidade\ndia                                    \nsex  chuva        10.51     26       79\nsab  chuva        11.07     27       62",
            "text/html": "<div>\n<style scoped>\n    .dataframe tbody tr th:only-of-type {\n        vertical-align: middle;\n    }\n\n    .dataframe tbody tr th {\n        vertical-align: top;\n    }\n\n    .dataframe thead th {\n        text-align: right;\n    }\n</style>\n<table border=\"1\" class=\"dataframe\">\n  <thead>\n    <tr style=\"text-align: right;\">\n      <th></th>\n      <th>clima</th>\n      <th>temperatura</th>\n      <th>vento</th>\n      <th>umidade</th>\n    </tr>\n    <tr>\n      <th>dia</th>\n      <th></th>\n      <th></th>\n      <th></th>\n      <th></th>\n    </tr>\n  </thead>\n  <tbody>\n    <tr>\n      <th>sex</th>\n      <td>chuva</td>\n      <td>10.51</td>\n      <td>26</td>\n      <td>79</td>\n    </tr>\n    <tr>\n      <th>sab</th>\n      <td>chuva</td>\n      <td>11.07</td>\n      <td>27</td>\n      <td>62</td>\n    </tr>\n  </tbody>\n</table>\n</div>"
          },
          "metadata": {}
        }
      ]
    },
    {
      "cell_type": "code",
      "source": "tabela.loc[(tabela.umidade > 50) | (tabela.clima == 'nublado'),:]",
      "metadata": {
        "trusted": true
      },
      "execution_count": 25,
      "outputs": [
        {
          "execution_count": 25,
          "output_type": "execute_result",
          "data": {
            "text/plain": "       clima  temperatura  vento  umidade\ndia                                      \nter      sol        19.67     28       96\nqui  nublado        14.44     11       22\nsex    chuva        10.51     26       79\nsab    chuva        11.07     27       62",
            "text/html": "<div>\n<style scoped>\n    .dataframe tbody tr th:only-of-type {\n        vertical-align: middle;\n    }\n\n    .dataframe tbody tr th {\n        vertical-align: top;\n    }\n\n    .dataframe thead th {\n        text-align: right;\n    }\n</style>\n<table border=\"1\" class=\"dataframe\">\n  <thead>\n    <tr style=\"text-align: right;\">\n      <th></th>\n      <th>clima</th>\n      <th>temperatura</th>\n      <th>vento</th>\n      <th>umidade</th>\n    </tr>\n    <tr>\n      <th>dia</th>\n      <th></th>\n      <th></th>\n      <th></th>\n      <th></th>\n    </tr>\n  </thead>\n  <tbody>\n    <tr>\n      <th>ter</th>\n      <td>sol</td>\n      <td>19.67</td>\n      <td>28</td>\n      <td>96</td>\n    </tr>\n    <tr>\n      <th>qui</th>\n      <td>nublado</td>\n      <td>14.44</td>\n      <td>11</td>\n      <td>22</td>\n    </tr>\n    <tr>\n      <th>sex</th>\n      <td>chuva</td>\n      <td>10.51</td>\n      <td>26</td>\n      <td>79</td>\n    </tr>\n    <tr>\n      <th>sab</th>\n      <td>chuva</td>\n      <td>11.07</td>\n      <td>27</td>\n      <td>62</td>\n    </tr>\n  </tbody>\n</table>\n</div>"
          },
          "metadata": {}
        }
      ]
    },
    {
      "cell_type": "code",
      "source": "tabela.loc[(tabela.umidade > 50) & (tabela.clima == 'nublado'),:]",
      "metadata": {
        "trusted": true
      },
      "execution_count": 26,
      "outputs": [
        {
          "execution_count": 26,
          "output_type": "execute_result",
          "data": {
            "text/plain": "Empty DataFrame\nColumns: [clima, temperatura, vento, umidade]\nIndex: []",
            "text/html": "<div>\n<style scoped>\n    .dataframe tbody tr th:only-of-type {\n        vertical-align: middle;\n    }\n\n    .dataframe tbody tr th {\n        vertical-align: top;\n    }\n\n    .dataframe thead th {\n        text-align: right;\n    }\n</style>\n<table border=\"1\" class=\"dataframe\">\n  <thead>\n    <tr style=\"text-align: right;\">\n      <th></th>\n      <th>clima</th>\n      <th>temperatura</th>\n      <th>vento</th>\n      <th>umidade</th>\n    </tr>\n    <tr>\n      <th>dia</th>\n      <th></th>\n      <th></th>\n      <th></th>\n      <th></th>\n    </tr>\n  </thead>\n  <tbody>\n  </tbody>\n</table>\n</div>"
          },
          "metadata": {}
        }
      ]
    },
    {
      "cell_type": "code",
      "source": "tabela.loc[(tabela.umidade > 50) | (tabela.clima == 'nublado'),['temperatura', 'umidade']]",
      "metadata": {
        "trusted": true
      },
      "execution_count": 27,
      "outputs": [
        {
          "execution_count": 27,
          "output_type": "execute_result",
          "data": {
            "text/plain": "     temperatura  umidade\ndia                      \nter        19.67       96\nqui        14.44       22\nsex        10.51       79\nsab        11.07       62",
            "text/html": "<div>\n<style scoped>\n    .dataframe tbody tr th:only-of-type {\n        vertical-align: middle;\n    }\n\n    .dataframe tbody tr th {\n        vertical-align: top;\n    }\n\n    .dataframe thead th {\n        text-align: right;\n    }\n</style>\n<table border=\"1\" class=\"dataframe\">\n  <thead>\n    <tr style=\"text-align: right;\">\n      <th></th>\n      <th>temperatura</th>\n      <th>umidade</th>\n    </tr>\n    <tr>\n      <th>dia</th>\n      <th></th>\n      <th></th>\n    </tr>\n  </thead>\n  <tbody>\n    <tr>\n      <th>ter</th>\n      <td>19.67</td>\n      <td>96</td>\n    </tr>\n    <tr>\n      <th>qui</th>\n      <td>14.44</td>\n      <td>22</td>\n    </tr>\n    <tr>\n      <th>sex</th>\n      <td>10.51</td>\n      <td>79</td>\n    </tr>\n    <tr>\n      <th>sab</th>\n      <td>11.07</td>\n      <td>62</td>\n    </tr>\n  </tbody>\n</table>\n</div>"
          },
          "metadata": {}
        }
      ]
    },
    {
      "cell_type": "code",
      "source": "",
      "metadata": {},
      "execution_count": null,
      "outputs": []
    }
  ]
}