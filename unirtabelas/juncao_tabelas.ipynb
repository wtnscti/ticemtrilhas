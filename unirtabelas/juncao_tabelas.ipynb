{
  "metadata": {
    "language_info": {
      "codemirror_mode": {
        "name": "python",
        "version": 3
      },
      "file_extension": ".py",
      "mimetype": "text/x-python",
      "name": "python",
      "nbconvert_exporter": "python",
      "pygments_lexer": "ipython3",
      "version": "3.8"
    },
    "kernelspec": {
      "name": "python",
      "display_name": "Python (Pyodide)",
      "language": "python"
    }
  },
  "nbformat_minor": 4,
  "nbformat": 4,
  "cells": [
    {
      "cell_type": "code",
      "source": "import pandas as pd",
      "metadata": {
        "trusted": true
      },
      "execution_count": 10,
      "outputs": []
    },
    {
      "cell_type": "code",
      "source": "voos = pd.read_csv('../../data/aulas/juncao_tabelas/voos.csv')\nvoos.head()",
      "metadata": {
        "trusted": true
      },
      "execution_count": 11,
      "outputs": [
        {
          "execution_count": 11,
          "output_type": "execute_result",
          "data": {
            "text/plain": "   year month  passengers\n0  1949   Jan         112\n1  1949   Feb         118\n2  1949   Mar         132\n3  1949   Apr         129\n4  1949   May         121",
            "text/html": "<div>\n<style scoped>\n    .dataframe tbody tr th:only-of-type {\n        vertical-align: middle;\n    }\n\n    .dataframe tbody tr th {\n        vertical-align: top;\n    }\n\n    .dataframe thead th {\n        text-align: right;\n    }\n</style>\n<table border=\"1\" class=\"dataframe\">\n  <thead>\n    <tr style=\"text-align: right;\">\n      <th></th>\n      <th>year</th>\n      <th>month</th>\n      <th>passengers</th>\n    </tr>\n  </thead>\n  <tbody>\n    <tr>\n      <th>0</th>\n      <td>1949</td>\n      <td>Jan</td>\n      <td>112</td>\n    </tr>\n    <tr>\n      <th>1</th>\n      <td>1949</td>\n      <td>Feb</td>\n      <td>118</td>\n    </tr>\n    <tr>\n      <th>2</th>\n      <td>1949</td>\n      <td>Mar</td>\n      <td>132</td>\n    </tr>\n    <tr>\n      <th>3</th>\n      <td>1949</td>\n      <td>Apr</td>\n      <td>129</td>\n    </tr>\n    <tr>\n      <th>4</th>\n      <td>1949</td>\n      <td>May</td>\n      <td>121</td>\n    </tr>\n  </tbody>\n</table>\n</div>"
          },
          "metadata": {}
        }
      ]
    },
    {
      "cell_type": "code",
      "source": "qnt_voos = pd.read_csv('../../data/aulas/juncao_tabelas/quatidade_de_voos.csv')\nqnt_voos.tail()",
      "metadata": {
        "trusted": true
      },
      "execution_count": 35,
      "outputs": [
        {
          "execution_count": 35,
          "output_type": "execute_result",
          "data": {
            "text/plain": "   month  qnt\n7    Aug  386\n8    Sep  396\n9    Oct  376\n10   Nov  262\n11   Dec  436",
            "text/html": "<div>\n<style scoped>\n    .dataframe tbody tr th:only-of-type {\n        vertical-align: middle;\n    }\n\n    .dataframe tbody tr th {\n        vertical-align: top;\n    }\n\n    .dataframe thead th {\n        text-align: right;\n    }\n</style>\n<table border=\"1\" class=\"dataframe\">\n  <thead>\n    <tr style=\"text-align: right;\">\n      <th></th>\n      <th>month</th>\n      <th>qnt</th>\n    </tr>\n  </thead>\n  <tbody>\n    <tr>\n      <th>7</th>\n      <td>Aug</td>\n      <td>386</td>\n    </tr>\n    <tr>\n      <th>8</th>\n      <td>Sep</td>\n      <td>396</td>\n    </tr>\n    <tr>\n      <th>9</th>\n      <td>Oct</td>\n      <td>376</td>\n    </tr>\n    <tr>\n      <th>10</th>\n      <td>Nov</td>\n      <td>262</td>\n    </tr>\n    <tr>\n      <th>11</th>\n      <td>Dec</td>\n      <td>436</td>\n    </tr>\n  </tbody>\n</table>\n</div>"
          },
          "metadata": {}
        }
      ]
    },
    {
      "cell_type": "code",
      "source": "pd.merge(voos, qnt_voos, on='month')",
      "metadata": {
        "trusted": true
      },
      "execution_count": 34,
      "outputs": [
        {
          "execution_count": 34,
          "output_type": "execute_result",
          "data": {
            "text/plain": "     year month  passengers  qnt\n0    1949   Jan         112  284\n1    1950   Jan         115  284\n2    1951   Jan         145  284\n3    1952   Jan         171  284\n4    1953   Jan         196  284\n..    ...   ...         ...  ...\n139  1956   Dec         306  436\n140  1957   Dec         336  436\n141  1958   Dec         337  436\n142  1959   Dec         405  436\n143  1960   Dec         432  436\n\n[144 rows x 4 columns]",
            "text/html": "<div>\n<style scoped>\n    .dataframe tbody tr th:only-of-type {\n        vertical-align: middle;\n    }\n\n    .dataframe tbody tr th {\n        vertical-align: top;\n    }\n\n    .dataframe thead th {\n        text-align: right;\n    }\n</style>\n<table border=\"1\" class=\"dataframe\">\n  <thead>\n    <tr style=\"text-align: right;\">\n      <th></th>\n      <th>year</th>\n      <th>month</th>\n      <th>passengers</th>\n      <th>qnt</th>\n    </tr>\n  </thead>\n  <tbody>\n    <tr>\n      <th>0</th>\n      <td>1949</td>\n      <td>Jan</td>\n      <td>112</td>\n      <td>284</td>\n    </tr>\n    <tr>\n      <th>1</th>\n      <td>1950</td>\n      <td>Jan</td>\n      <td>115</td>\n      <td>284</td>\n    </tr>\n    <tr>\n      <th>2</th>\n      <td>1951</td>\n      <td>Jan</td>\n      <td>145</td>\n      <td>284</td>\n    </tr>\n    <tr>\n      <th>3</th>\n      <td>1952</td>\n      <td>Jan</td>\n      <td>171</td>\n      <td>284</td>\n    </tr>\n    <tr>\n      <th>4</th>\n      <td>1953</td>\n      <td>Jan</td>\n      <td>196</td>\n      <td>284</td>\n    </tr>\n    <tr>\n      <th>...</th>\n      <td>...</td>\n      <td>...</td>\n      <td>...</td>\n      <td>...</td>\n    </tr>\n    <tr>\n      <th>139</th>\n      <td>1956</td>\n      <td>Dec</td>\n      <td>306</td>\n      <td>436</td>\n    </tr>\n    <tr>\n      <th>140</th>\n      <td>1957</td>\n      <td>Dec</td>\n      <td>336</td>\n      <td>436</td>\n    </tr>\n    <tr>\n      <th>141</th>\n      <td>1958</td>\n      <td>Dec</td>\n      <td>337</td>\n      <td>436</td>\n    </tr>\n    <tr>\n      <th>142</th>\n      <td>1959</td>\n      <td>Dec</td>\n      <td>405</td>\n      <td>436</td>\n    </tr>\n    <tr>\n      <th>143</th>\n      <td>1960</td>\n      <td>Dec</td>\n      <td>432</td>\n      <td>436</td>\n    </tr>\n  </tbody>\n</table>\n<p>144 rows × 4 columns</p>\n</div>"
          },
          "metadata": {}
        }
      ]
    },
    {
      "cell_type": "code",
      "source": "produtos1 = pd.read_csv('../../data/aulas/juncao_tabelas/produtos1.csv', index_col=['id'])\nprodutos1.head()",
      "metadata": {
        "trusted": true
      },
      "execution_count": 38,
      "outputs": [
        {
          "execution_count": 38,
          "output_type": "execute_result",
          "data": {
            "text/plain": "              nome  preco\nid                       \n1         sabonete    5.4\n2   pasta de dente    7.9\n3      desodorante   15.4",
            "text/html": "<div>\n<style scoped>\n    .dataframe tbody tr th:only-of-type {\n        vertical-align: middle;\n    }\n\n    .dataframe tbody tr th {\n        vertical-align: top;\n    }\n\n    .dataframe thead th {\n        text-align: right;\n    }\n</style>\n<table border=\"1\" class=\"dataframe\">\n  <thead>\n    <tr style=\"text-align: right;\">\n      <th></th>\n      <th>nome</th>\n      <th>preco</th>\n    </tr>\n    <tr>\n      <th>id</th>\n      <th></th>\n      <th></th>\n    </tr>\n  </thead>\n  <tbody>\n    <tr>\n      <th>1</th>\n      <td>sabonete</td>\n      <td>5.4</td>\n    </tr>\n    <tr>\n      <th>2</th>\n      <td>pasta de dente</td>\n      <td>7.9</td>\n    </tr>\n    <tr>\n      <th>3</th>\n      <td>desodorante</td>\n      <td>15.4</td>\n    </tr>\n  </tbody>\n</table>\n</div>"
          },
          "metadata": {}
        }
      ]
    },
    {
      "cell_type": "code",
      "source": "produtos2 = pd.read_csv('../../data/aulas/juncao_tabelas/produtos2.csv', index_col=['id'])\nprodutos2.head()",
      "metadata": {
        "trusted": true
      },
      "execution_count": 39,
      "outputs": [
        {
          "execution_count": 39,
          "output_type": "execute_result",
          "data": {
            "text/plain": "                nome  preco\nid                         \n4   escova de dentes   34.2\n5          amaciante   37.8\n6      condicionador   12.9",
            "text/html": "<div>\n<style scoped>\n    .dataframe tbody tr th:only-of-type {\n        vertical-align: middle;\n    }\n\n    .dataframe tbody tr th {\n        vertical-align: top;\n    }\n\n    .dataframe thead th {\n        text-align: right;\n    }\n</style>\n<table border=\"1\" class=\"dataframe\">\n  <thead>\n    <tr style=\"text-align: right;\">\n      <th></th>\n      <th>nome</th>\n      <th>preco</th>\n    </tr>\n    <tr>\n      <th>id</th>\n      <th></th>\n      <th></th>\n    </tr>\n  </thead>\n  <tbody>\n    <tr>\n      <th>4</th>\n      <td>escova de dentes</td>\n      <td>34.2</td>\n    </tr>\n    <tr>\n      <th>5</th>\n      <td>amaciante</td>\n      <td>37.8</td>\n    </tr>\n    <tr>\n      <th>6</th>\n      <td>condicionador</td>\n      <td>12.9</td>\n    </tr>\n  </tbody>\n</table>\n</div>"
          },
          "metadata": {}
        }
      ]
    },
    {
      "cell_type": "code",
      "source": "produtos = pd.concat([produtos1, produtos2])\nprodutos.head()",
      "metadata": {
        "trusted": true
      },
      "execution_count": 42,
      "outputs": [
        {
          "execution_count": 42,
          "output_type": "execute_result",
          "data": {
            "text/plain": "                nome  preco\nid                         \n1           sabonete    5.4\n2     pasta de dente    7.9\n3        desodorante   15.4\n4   escova de dentes   34.2\n5          amaciante   37.8",
            "text/html": "<div>\n<style scoped>\n    .dataframe tbody tr th:only-of-type {\n        vertical-align: middle;\n    }\n\n    .dataframe tbody tr th {\n        vertical-align: top;\n    }\n\n    .dataframe thead th {\n        text-align: right;\n    }\n</style>\n<table border=\"1\" class=\"dataframe\">\n  <thead>\n    <tr style=\"text-align: right;\">\n      <th></th>\n      <th>nome</th>\n      <th>preco</th>\n    </tr>\n    <tr>\n      <th>id</th>\n      <th></th>\n      <th></th>\n    </tr>\n  </thead>\n  <tbody>\n    <tr>\n      <th>1</th>\n      <td>sabonete</td>\n      <td>5.4</td>\n    </tr>\n    <tr>\n      <th>2</th>\n      <td>pasta de dente</td>\n      <td>7.9</td>\n    </tr>\n    <tr>\n      <th>3</th>\n      <td>desodorante</td>\n      <td>15.4</td>\n    </tr>\n    <tr>\n      <th>4</th>\n      <td>escova de dentes</td>\n      <td>34.2</td>\n    </tr>\n    <tr>\n      <th>5</th>\n      <td>amaciante</td>\n      <td>37.8</td>\n    </tr>\n  </tbody>\n</table>\n</div>"
          },
          "metadata": {}
        }
      ]
    },
    {
      "cell_type": "code",
      "source": "vendas = pd.read_csv('../../data/aulas/juncao_tabelas/vendas.csv')\nvendas.head()",
      "metadata": {
        "trusted": true
      },
      "execution_count": 43,
      "outputs": [
        {
          "execution_count": 43,
          "output_type": "execute_result",
          "data": {
            "text/plain": "         data  quantidade  produto_id\n0  2022-01-01          10           1\n1  2022-01-02           5           2\n2  2022-01-03           7           1\n3  2022-01-04          12           3",
            "text/html": "<div>\n<style scoped>\n    .dataframe tbody tr th:only-of-type {\n        vertical-align: middle;\n    }\n\n    .dataframe tbody tr th {\n        vertical-align: top;\n    }\n\n    .dataframe thead th {\n        text-align: right;\n    }\n</style>\n<table border=\"1\" class=\"dataframe\">\n  <thead>\n    <tr style=\"text-align: right;\">\n      <th></th>\n      <th>data</th>\n      <th>quantidade</th>\n      <th>produto_id</th>\n    </tr>\n  </thead>\n  <tbody>\n    <tr>\n      <th>0</th>\n      <td>2022-01-01</td>\n      <td>10</td>\n      <td>1</td>\n    </tr>\n    <tr>\n      <th>1</th>\n      <td>2022-01-02</td>\n      <td>5</td>\n      <td>2</td>\n    </tr>\n    <tr>\n      <th>2</th>\n      <td>2022-01-03</td>\n      <td>7</td>\n      <td>1</td>\n    </tr>\n    <tr>\n      <th>3</th>\n      <td>2022-01-04</td>\n      <td>12</td>\n      <td>3</td>\n    </tr>\n  </tbody>\n</table>\n</div>"
          },
          "metadata": {}
        }
      ]
    },
    {
      "cell_type": "code",
      "source": "vendas = vendas.join(produtos, on='produto_id')",
      "metadata": {
        "trusted": true
      },
      "execution_count": 45,
      "outputs": []
    },
    {
      "cell_type": "code",
      "source": "vendas.head()",
      "metadata": {
        "trusted": true
      },
      "execution_count": 46,
      "outputs": [
        {
          "execution_count": 46,
          "output_type": "execute_result",
          "data": {
            "text/plain": "         data  quantidade  produto_id            nome  preco\n0  2022-01-01          10           1        sabonete    5.4\n1  2022-01-02           5           2  pasta de dente    7.9\n2  2022-01-03           7           1        sabonete    5.4\n3  2022-01-04          12           3     desodorante   15.4",
            "text/html": "<div>\n<style scoped>\n    .dataframe tbody tr th:only-of-type {\n        vertical-align: middle;\n    }\n\n    .dataframe tbody tr th {\n        vertical-align: top;\n    }\n\n    .dataframe thead th {\n        text-align: right;\n    }\n</style>\n<table border=\"1\" class=\"dataframe\">\n  <thead>\n    <tr style=\"text-align: right;\">\n      <th></th>\n      <th>data</th>\n      <th>quantidade</th>\n      <th>produto_id</th>\n      <th>nome</th>\n      <th>preco</th>\n    </tr>\n  </thead>\n  <tbody>\n    <tr>\n      <th>0</th>\n      <td>2022-01-01</td>\n      <td>10</td>\n      <td>1</td>\n      <td>sabonete</td>\n      <td>5.4</td>\n    </tr>\n    <tr>\n      <th>1</th>\n      <td>2022-01-02</td>\n      <td>5</td>\n      <td>2</td>\n      <td>pasta de dente</td>\n      <td>7.9</td>\n    </tr>\n    <tr>\n      <th>2</th>\n      <td>2022-01-03</td>\n      <td>7</td>\n      <td>1</td>\n      <td>sabonete</td>\n      <td>5.4</td>\n    </tr>\n    <tr>\n      <th>3</th>\n      <td>2022-01-04</td>\n      <td>12</td>\n      <td>3</td>\n      <td>desodorante</td>\n      <td>15.4</td>\n    </tr>\n  </tbody>\n</table>\n</div>"
          },
          "metadata": {}
        }
      ]
    },
    {
      "cell_type": "code",
      "source": "vendas['total'] = vendas.quantidade * vendas.preco",
      "metadata": {
        "trusted": true
      },
      "execution_count": 48,
      "outputs": []
    },
    {
      "cell_type": "code",
      "source": "vendas.head()",
      "metadata": {
        "trusted": true
      },
      "execution_count": 49,
      "outputs": [
        {
          "execution_count": 49,
          "output_type": "execute_result",
          "data": {
            "text/plain": "         data  quantidade  produto_id            nome  preco  total\n0  2022-01-01          10           1        sabonete    5.4   54.0\n1  2022-01-02           5           2  pasta de dente    7.9   39.5\n2  2022-01-03           7           1        sabonete    5.4   37.8\n3  2022-01-04          12           3     desodorante   15.4  184.8",
            "text/html": "<div>\n<style scoped>\n    .dataframe tbody tr th:only-of-type {\n        vertical-align: middle;\n    }\n\n    .dataframe tbody tr th {\n        vertical-align: top;\n    }\n\n    .dataframe thead th {\n        text-align: right;\n    }\n</style>\n<table border=\"1\" class=\"dataframe\">\n  <thead>\n    <tr style=\"text-align: right;\">\n      <th></th>\n      <th>data</th>\n      <th>quantidade</th>\n      <th>produto_id</th>\n      <th>nome</th>\n      <th>preco</th>\n      <th>total</th>\n    </tr>\n  </thead>\n  <tbody>\n    <tr>\n      <th>0</th>\n      <td>2022-01-01</td>\n      <td>10</td>\n      <td>1</td>\n      <td>sabonete</td>\n      <td>5.4</td>\n      <td>54.0</td>\n    </tr>\n    <tr>\n      <th>1</th>\n      <td>2022-01-02</td>\n      <td>5</td>\n      <td>2</td>\n      <td>pasta de dente</td>\n      <td>7.9</td>\n      <td>39.5</td>\n    </tr>\n    <tr>\n      <th>2</th>\n      <td>2022-01-03</td>\n      <td>7</td>\n      <td>1</td>\n      <td>sabonete</td>\n      <td>5.4</td>\n      <td>37.8</td>\n    </tr>\n    <tr>\n      <th>3</th>\n      <td>2022-01-04</td>\n      <td>12</td>\n      <td>3</td>\n      <td>desodorante</td>\n      <td>15.4</td>\n      <td>184.8</td>\n    </tr>\n  </tbody>\n</table>\n</div>"
          },
          "metadata": {}
        }
      ]
    },
    {
      "cell_type": "code",
      "source": "",
      "metadata": {},
      "execution_count": null,
      "outputs": []
    }
  ]
}