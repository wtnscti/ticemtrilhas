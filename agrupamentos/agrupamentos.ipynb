{
  "metadata": {
    "language_info": {
      "codemirror_mode": {
        "name": "python",
        "version": 3
      },
      "file_extension": ".py",
      "mimetype": "text/x-python",
      "name": "python",
      "nbconvert_exporter": "python",
      "pygments_lexer": "ipython3",
      "version": "3.8"
    },
    "kernelspec": {
      "name": "python",
      "display_name": "Python (Pyodide)",
      "language": "python"
    }
  },
  "nbformat_minor": 4,
  "nbformat": 4,
  "cells": [
    {
      "cell_type": "code",
      "source": "import pandas as pd",
      "metadata": {
        "trusted": true
      },
      "execution_count": 9,
      "outputs": []
    },
    {
      "cell_type": "code",
      "source": "voos = pd.read_csv('../../data/aulas/voos.csv')",
      "metadata": {
        "trusted": true
      },
      "execution_count": 10,
      "outputs": []
    },
    {
      "cell_type": "code",
      "source": "voos.head()",
      "metadata": {
        "trusted": true
      },
      "execution_count": 11,
      "outputs": [
        {
          "execution_count": 11,
          "output_type": "execute_result",
          "data": {
            "text/plain": "   year month  passengers\n0  1949   Jan         112\n1  1949   Feb         118\n2  1949   Mar         132\n3  1949   Apr         129\n4  1949   May         121",
            "text/html": "<div>\n<style scoped>\n    .dataframe tbody tr th:only-of-type {\n        vertical-align: middle;\n    }\n\n    .dataframe tbody tr th {\n        vertical-align: top;\n    }\n\n    .dataframe thead th {\n        text-align: right;\n    }\n</style>\n<table border=\"1\" class=\"dataframe\">\n  <thead>\n    <tr style=\"text-align: right;\">\n      <th></th>\n      <th>year</th>\n      <th>month</th>\n      <th>passengers</th>\n    </tr>\n  </thead>\n  <tbody>\n    <tr>\n      <th>0</th>\n      <td>1949</td>\n      <td>Jan</td>\n      <td>112</td>\n    </tr>\n    <tr>\n      <th>1</th>\n      <td>1949</td>\n      <td>Feb</td>\n      <td>118</td>\n    </tr>\n    <tr>\n      <th>2</th>\n      <td>1949</td>\n      <td>Mar</td>\n      <td>132</td>\n    </tr>\n    <tr>\n      <th>3</th>\n      <td>1949</td>\n      <td>Apr</td>\n      <td>129</td>\n    </tr>\n    <tr>\n      <th>4</th>\n      <td>1949</td>\n      <td>May</td>\n      <td>121</td>\n    </tr>\n  </tbody>\n</table>\n</div>"
          },
          "metadata": {}
        }
      ]
    },
    {
      "cell_type": "code",
      "source": "pd.pivot_table(voos, index=['year', 'month'])",
      "metadata": {
        "trusted": true
      },
      "execution_count": 13,
      "outputs": [
        {
          "execution_count": 13,
          "output_type": "execute_result",
          "data": {
            "text/plain": "            passengers\nyear month            \n1949 Apr           129\n     Aug           148\n     Dec           118\n     Feb           118\n     Jan           112\n...                ...\n1960 Mar           419\n     May           472\n     Nov           390\n     Oct           461\n     Sep           508\n\n[144 rows x 1 columns]",
            "text/html": "<div>\n<style scoped>\n    .dataframe tbody tr th:only-of-type {\n        vertical-align: middle;\n    }\n\n    .dataframe tbody tr th {\n        vertical-align: top;\n    }\n\n    .dataframe thead th {\n        text-align: right;\n    }\n</style>\n<table border=\"1\" class=\"dataframe\">\n  <thead>\n    <tr style=\"text-align: right;\">\n      <th></th>\n      <th></th>\n      <th>passengers</th>\n    </tr>\n    <tr>\n      <th>year</th>\n      <th>month</th>\n      <th></th>\n    </tr>\n  </thead>\n  <tbody>\n    <tr>\n      <th rowspan=\"5\" valign=\"top\">1949</th>\n      <th>Apr</th>\n      <td>129</td>\n    </tr>\n    <tr>\n      <th>Aug</th>\n      <td>148</td>\n    </tr>\n    <tr>\n      <th>Dec</th>\n      <td>118</td>\n    </tr>\n    <tr>\n      <th>Feb</th>\n      <td>118</td>\n    </tr>\n    <tr>\n      <th>Jan</th>\n      <td>112</td>\n    </tr>\n    <tr>\n      <th>...</th>\n      <th>...</th>\n      <td>...</td>\n    </tr>\n    <tr>\n      <th rowspan=\"5\" valign=\"top\">1960</th>\n      <th>Mar</th>\n      <td>419</td>\n    </tr>\n    <tr>\n      <th>May</th>\n      <td>472</td>\n    </tr>\n    <tr>\n      <th>Nov</th>\n      <td>390</td>\n    </tr>\n    <tr>\n      <th>Oct</th>\n      <td>461</td>\n    </tr>\n    <tr>\n      <th>Sep</th>\n      <td>508</td>\n    </tr>\n  </tbody>\n</table>\n<p>144 rows × 1 columns</p>\n</div>"
          },
          "metadata": {}
        }
      ]
    },
    {
      "cell_type": "code",
      "source": "pd.pivot_table(voos, index=['month', 'year'])",
      "metadata": {
        "trusted": true
      },
      "execution_count": 14,
      "outputs": [
        {
          "execution_count": 14,
          "output_type": "execute_result",
          "data": {
            "text/plain": "            passengers\nmonth year            \nApr   1949         129\n      1950         135\n      1951         163\n      1952         181\n      1953         235\n...                ...\nSep   1956         355\n      1957         404\n      1958         404\n      1959         463\n      1960         508\n\n[144 rows x 1 columns]",
            "text/html": "<div>\n<style scoped>\n    .dataframe tbody tr th:only-of-type {\n        vertical-align: middle;\n    }\n\n    .dataframe tbody tr th {\n        vertical-align: top;\n    }\n\n    .dataframe thead th {\n        text-align: right;\n    }\n</style>\n<table border=\"1\" class=\"dataframe\">\n  <thead>\n    <tr style=\"text-align: right;\">\n      <th></th>\n      <th></th>\n      <th>passengers</th>\n    </tr>\n    <tr>\n      <th>month</th>\n      <th>year</th>\n      <th></th>\n    </tr>\n  </thead>\n  <tbody>\n    <tr>\n      <th rowspan=\"5\" valign=\"top\">Apr</th>\n      <th>1949</th>\n      <td>129</td>\n    </tr>\n    <tr>\n      <th>1950</th>\n      <td>135</td>\n    </tr>\n    <tr>\n      <th>1951</th>\n      <td>163</td>\n    </tr>\n    <tr>\n      <th>1952</th>\n      <td>181</td>\n    </tr>\n    <tr>\n      <th>1953</th>\n      <td>235</td>\n    </tr>\n    <tr>\n      <th>...</th>\n      <th>...</th>\n      <td>...</td>\n    </tr>\n    <tr>\n      <th rowspan=\"5\" valign=\"top\">Sep</th>\n      <th>1956</th>\n      <td>355</td>\n    </tr>\n    <tr>\n      <th>1957</th>\n      <td>404</td>\n    </tr>\n    <tr>\n      <th>1958</th>\n      <td>404</td>\n    </tr>\n    <tr>\n      <th>1959</th>\n      <td>463</td>\n    </tr>\n    <tr>\n      <th>1960</th>\n      <td>508</td>\n    </tr>\n  </tbody>\n</table>\n<p>144 rows × 1 columns</p>\n</div>"
          },
          "metadata": {}
        }
      ]
    },
    {
      "cell_type": "code",
      "source": "voos_por_ano = voos.groupby('year')",
      "metadata": {
        "trusted": true
      },
      "execution_count": 16,
      "outputs": []
    },
    {
      "cell_type": "code",
      "source": "voos_por_ano.describe()",
      "metadata": {
        "trusted": true
      },
      "execution_count": 18,
      "outputs": [
        {
          "execution_count": 18,
          "output_type": "execute_result",
          "data": {
            "text/plain": "     passengers                                                            \n          count        mean        std    min     25%    50%     75%    max\nyear                                                                       \n1949       12.0  126.666667  13.720147  104.0  118.00  125.0  135.25  148.0\n1950       12.0  139.666667  19.070841  114.0  125.75  137.5  151.25  170.0\n1951       12.0  170.166667  18.438267  145.0  159.00  169.0  179.50  199.0\n1952       12.0  197.000000  22.966379  171.0  180.75  192.0  211.25  242.0\n1953       12.0  225.000000  28.466887  180.0  199.75  232.0  238.50  272.0\n1954       12.0  238.916667  34.924486  188.0  221.25  231.5  260.25  302.0\n1955       12.0  284.000000  42.140458  233.0  260.75  272.0  312.75  364.0\n1956       12.0  328.250000  47.861780  271.0  300.50  315.0  359.75  413.0\n1957       12.0  368.416667  57.890898  301.0  330.75  351.5  408.50  467.0\n1958       12.0  381.000000  64.530472  310.0  339.25  360.5  411.75  505.0\n1959       12.0  428.333333  69.830097  342.0  387.50  406.5  465.25  559.0\n1960       12.0  476.166667  77.737125  390.0  418.50  461.0  514.75  622.0",
            "text/html": "<div>\n<style scoped>\n    .dataframe tbody tr th:only-of-type {\n        vertical-align: middle;\n    }\n\n    .dataframe tbody tr th {\n        vertical-align: top;\n    }\n\n    .dataframe thead tr th {\n        text-align: left;\n    }\n\n    .dataframe thead tr:last-of-type th {\n        text-align: right;\n    }\n</style>\n<table border=\"1\" class=\"dataframe\">\n  <thead>\n    <tr>\n      <th></th>\n      <th colspan=\"8\" halign=\"left\">passengers</th>\n    </tr>\n    <tr>\n      <th></th>\n      <th>count</th>\n      <th>mean</th>\n      <th>std</th>\n      <th>min</th>\n      <th>25%</th>\n      <th>50%</th>\n      <th>75%</th>\n      <th>max</th>\n    </tr>\n    <tr>\n      <th>year</th>\n      <th></th>\n      <th></th>\n      <th></th>\n      <th></th>\n      <th></th>\n      <th></th>\n      <th></th>\n      <th></th>\n    </tr>\n  </thead>\n  <tbody>\n    <tr>\n      <th>1949</th>\n      <td>12.0</td>\n      <td>126.666667</td>\n      <td>13.720147</td>\n      <td>104.0</td>\n      <td>118.00</td>\n      <td>125.0</td>\n      <td>135.25</td>\n      <td>148.0</td>\n    </tr>\n    <tr>\n      <th>1950</th>\n      <td>12.0</td>\n      <td>139.666667</td>\n      <td>19.070841</td>\n      <td>114.0</td>\n      <td>125.75</td>\n      <td>137.5</td>\n      <td>151.25</td>\n      <td>170.0</td>\n    </tr>\n    <tr>\n      <th>1951</th>\n      <td>12.0</td>\n      <td>170.166667</td>\n      <td>18.438267</td>\n      <td>145.0</td>\n      <td>159.00</td>\n      <td>169.0</td>\n      <td>179.50</td>\n      <td>199.0</td>\n    </tr>\n    <tr>\n      <th>1952</th>\n      <td>12.0</td>\n      <td>197.000000</td>\n      <td>22.966379</td>\n      <td>171.0</td>\n      <td>180.75</td>\n      <td>192.0</td>\n      <td>211.25</td>\n      <td>242.0</td>\n    </tr>\n    <tr>\n      <th>1953</th>\n      <td>12.0</td>\n      <td>225.000000</td>\n      <td>28.466887</td>\n      <td>180.0</td>\n      <td>199.75</td>\n      <td>232.0</td>\n      <td>238.50</td>\n      <td>272.0</td>\n    </tr>\n    <tr>\n      <th>1954</th>\n      <td>12.0</td>\n      <td>238.916667</td>\n      <td>34.924486</td>\n      <td>188.0</td>\n      <td>221.25</td>\n      <td>231.5</td>\n      <td>260.25</td>\n      <td>302.0</td>\n    </tr>\n    <tr>\n      <th>1955</th>\n      <td>12.0</td>\n      <td>284.000000</td>\n      <td>42.140458</td>\n      <td>233.0</td>\n      <td>260.75</td>\n      <td>272.0</td>\n      <td>312.75</td>\n      <td>364.0</td>\n    </tr>\n    <tr>\n      <th>1956</th>\n      <td>12.0</td>\n      <td>328.250000</td>\n      <td>47.861780</td>\n      <td>271.0</td>\n      <td>300.50</td>\n      <td>315.0</td>\n      <td>359.75</td>\n      <td>413.0</td>\n    </tr>\n    <tr>\n      <th>1957</th>\n      <td>12.0</td>\n      <td>368.416667</td>\n      <td>57.890898</td>\n      <td>301.0</td>\n      <td>330.75</td>\n      <td>351.5</td>\n      <td>408.50</td>\n      <td>467.0</td>\n    </tr>\n    <tr>\n      <th>1958</th>\n      <td>12.0</td>\n      <td>381.000000</td>\n      <td>64.530472</td>\n      <td>310.0</td>\n      <td>339.25</td>\n      <td>360.5</td>\n      <td>411.75</td>\n      <td>505.0</td>\n    </tr>\n    <tr>\n      <th>1959</th>\n      <td>12.0</td>\n      <td>428.333333</td>\n      <td>69.830097</td>\n      <td>342.0</td>\n      <td>387.50</td>\n      <td>406.5</td>\n      <td>465.25</td>\n      <td>559.0</td>\n    </tr>\n    <tr>\n      <th>1960</th>\n      <td>12.0</td>\n      <td>476.166667</td>\n      <td>77.737125</td>\n      <td>390.0</td>\n      <td>418.50</td>\n      <td>461.0</td>\n      <td>514.75</td>\n      <td>622.0</td>\n    </tr>\n  </tbody>\n</table>\n</div>"
          },
          "metadata": {}
        }
      ]
    },
    {
      "cell_type": "code",
      "source": "voos_por_ano['passengers'].mean()",
      "metadata": {
        "trusted": true
      },
      "execution_count": 20,
      "outputs": [
        {
          "execution_count": 20,
          "output_type": "execute_result",
          "data": {
            "text/plain": "year\n1949    126.666667\n1950    139.666667\n1951    170.166667\n1952    197.000000\n1953    225.000000\n1954    238.916667\n1955    284.000000\n1956    328.250000\n1957    368.416667\n1958    381.000000\n1959    428.333333\n1960    476.166667\nName: passengers, dtype: float64"
          },
          "metadata": {}
        }
      ]
    },
    {
      "cell_type": "code",
      "source": "voos_por_mes = voos.groupby('month')\nvoos_por_mes",
      "metadata": {
        "trusted": true
      },
      "execution_count": 21,
      "outputs": [
        {
          "execution_count": 21,
          "output_type": "execute_result",
          "data": {
            "text/plain": "<pandas.core.groupby.generic.DataFrameGroupBy object at 0x34c9480>"
          },
          "metadata": {}
        }
      ]
    },
    {
      "cell_type": "code",
      "source": "voos_por_mes.describe()",
      "metadata": {
        "trusted": true
      },
      "execution_count": 22,
      "outputs": [
        {
          "execution_count": 22,
          "output_type": "execute_result",
          "data": {
            "text/plain": "       year                                                              \\\n      count    mean       std     min      25%     50%      75%     max   \nmonth                                                                     \nApr    12.0  1954.5  3.605551  1949.0  1951.75  1954.5  1957.25  1960.0   \nAug    12.0  1954.5  3.605551  1949.0  1951.75  1954.5  1957.25  1960.0   \nDec    12.0  1954.5  3.605551  1949.0  1951.75  1954.5  1957.25  1960.0   \nFeb    12.0  1954.5  3.605551  1949.0  1951.75  1954.5  1957.25  1960.0   \nJan    12.0  1954.5  3.605551  1949.0  1951.75  1954.5  1957.25  1960.0   \nJul    12.0  1954.5  3.605551  1949.0  1951.75  1954.5  1957.25  1960.0   \nJun    12.0  1954.5  3.605551  1949.0  1951.75  1954.5  1957.25  1960.0   \nMar    12.0  1954.5  3.605551  1949.0  1951.75  1954.5  1957.25  1960.0   \nMay    12.0  1954.5  3.605551  1949.0  1951.75  1954.5  1957.25  1960.0   \nNov    12.0  1954.5  3.605551  1949.0  1951.75  1954.5  1957.25  1960.0   \nOct    12.0  1954.5  3.605551  1949.0  1951.75  1954.5  1957.25  1960.0   \nSep    12.0  1954.5  3.605551  1949.0  1951.75  1954.5  1957.25  1960.0   \n\n      passengers                                                               \n           count        mean         std    min     25%    50%     75%    max  \nmonth                                                                          \nApr         12.0  267.083333  107.374839  129.0  176.50  252.0  348.00  461.0  \nAug         12.0  351.083333  155.783333  148.0  231.25  320.0  476.50  606.0  \nDec         12.0  261.833333  103.093808  118.0  187.00  253.5  336.25  432.0  \nFeb         12.0  235.000000   89.619397  118.0  172.50  214.5  305.25  391.0  \nJan         12.0  241.750000  101.032960  112.0  164.50  223.0  321.25  417.0  \nJul         12.0  351.333333  156.827255  148.0  222.25  333.0  471.50  622.0  \nJun         12.0  311.666667  134.219856  135.0  208.00  289.5  425.25  535.0  \nMar         12.0  270.166667  100.559194  132.0  189.25  251.5  357.50  419.0  \nMay         12.0  271.833333  114.739890  121.0  180.25  252.0  357.00  472.0  \nNov         12.0  232.833333   95.185783  104.0  165.50  220.0  306.25  390.0  \nOct         12.0  266.583333  110.744964  119.0  183.75  251.5  350.00  461.0  \nSep         12.0  302.416667  123.954140  136.0  202.75  285.5  404.00  508.0  ",
            "text/html": "<div>\n<style scoped>\n    .dataframe tbody tr th:only-of-type {\n        vertical-align: middle;\n    }\n\n    .dataframe tbody tr th {\n        vertical-align: top;\n    }\n\n    .dataframe thead tr th {\n        text-align: left;\n    }\n\n    .dataframe thead tr:last-of-type th {\n        text-align: right;\n    }\n</style>\n<table border=\"1\" class=\"dataframe\">\n  <thead>\n    <tr>\n      <th></th>\n      <th colspan=\"8\" halign=\"left\">year</th>\n      <th colspan=\"8\" halign=\"left\">passengers</th>\n    </tr>\n    <tr>\n      <th></th>\n      <th>count</th>\n      <th>mean</th>\n      <th>std</th>\n      <th>min</th>\n      <th>25%</th>\n      <th>50%</th>\n      <th>75%</th>\n      <th>max</th>\n      <th>count</th>\n      <th>mean</th>\n      <th>std</th>\n      <th>min</th>\n      <th>25%</th>\n      <th>50%</th>\n      <th>75%</th>\n      <th>max</th>\n    </tr>\n    <tr>\n      <th>month</th>\n      <th></th>\n      <th></th>\n      <th></th>\n      <th></th>\n      <th></th>\n      <th></th>\n      <th></th>\n      <th></th>\n      <th></th>\n      <th></th>\n      <th></th>\n      <th></th>\n      <th></th>\n      <th></th>\n      <th></th>\n      <th></th>\n    </tr>\n  </thead>\n  <tbody>\n    <tr>\n      <th>Apr</th>\n      <td>12.0</td>\n      <td>1954.5</td>\n      <td>3.605551</td>\n      <td>1949.0</td>\n      <td>1951.75</td>\n      <td>1954.5</td>\n      <td>1957.25</td>\n      <td>1960.0</td>\n      <td>12.0</td>\n      <td>267.083333</td>\n      <td>107.374839</td>\n      <td>129.0</td>\n      <td>176.50</td>\n      <td>252.0</td>\n      <td>348.00</td>\n      <td>461.0</td>\n    </tr>\n    <tr>\n      <th>Aug</th>\n      <td>12.0</td>\n      <td>1954.5</td>\n      <td>3.605551</td>\n      <td>1949.0</td>\n      <td>1951.75</td>\n      <td>1954.5</td>\n      <td>1957.25</td>\n      <td>1960.0</td>\n      <td>12.0</td>\n      <td>351.083333</td>\n      <td>155.783333</td>\n      <td>148.0</td>\n      <td>231.25</td>\n      <td>320.0</td>\n      <td>476.50</td>\n      <td>606.0</td>\n    </tr>\n    <tr>\n      <th>Dec</th>\n      <td>12.0</td>\n      <td>1954.5</td>\n      <td>3.605551</td>\n      <td>1949.0</td>\n      <td>1951.75</td>\n      <td>1954.5</td>\n      <td>1957.25</td>\n      <td>1960.0</td>\n      <td>12.0</td>\n      <td>261.833333</td>\n      <td>103.093808</td>\n      <td>118.0</td>\n      <td>187.00</td>\n      <td>253.5</td>\n      <td>336.25</td>\n      <td>432.0</td>\n    </tr>\n    <tr>\n      <th>Feb</th>\n      <td>12.0</td>\n      <td>1954.5</td>\n      <td>3.605551</td>\n      <td>1949.0</td>\n      <td>1951.75</td>\n      <td>1954.5</td>\n      <td>1957.25</td>\n      <td>1960.0</td>\n      <td>12.0</td>\n      <td>235.000000</td>\n      <td>89.619397</td>\n      <td>118.0</td>\n      <td>172.50</td>\n      <td>214.5</td>\n      <td>305.25</td>\n      <td>391.0</td>\n    </tr>\n    <tr>\n      <th>Jan</th>\n      <td>12.0</td>\n      <td>1954.5</td>\n      <td>3.605551</td>\n      <td>1949.0</td>\n      <td>1951.75</td>\n      <td>1954.5</td>\n      <td>1957.25</td>\n      <td>1960.0</td>\n      <td>12.0</td>\n      <td>241.750000</td>\n      <td>101.032960</td>\n      <td>112.0</td>\n      <td>164.50</td>\n      <td>223.0</td>\n      <td>321.25</td>\n      <td>417.0</td>\n    </tr>\n    <tr>\n      <th>Jul</th>\n      <td>12.0</td>\n      <td>1954.5</td>\n      <td>3.605551</td>\n      <td>1949.0</td>\n      <td>1951.75</td>\n      <td>1954.5</td>\n      <td>1957.25</td>\n      <td>1960.0</td>\n      <td>12.0</td>\n      <td>351.333333</td>\n      <td>156.827255</td>\n      <td>148.0</td>\n      <td>222.25</td>\n      <td>333.0</td>\n      <td>471.50</td>\n      <td>622.0</td>\n    </tr>\n    <tr>\n      <th>Jun</th>\n      <td>12.0</td>\n      <td>1954.5</td>\n      <td>3.605551</td>\n      <td>1949.0</td>\n      <td>1951.75</td>\n      <td>1954.5</td>\n      <td>1957.25</td>\n      <td>1960.0</td>\n      <td>12.0</td>\n      <td>311.666667</td>\n      <td>134.219856</td>\n      <td>135.0</td>\n      <td>208.00</td>\n      <td>289.5</td>\n      <td>425.25</td>\n      <td>535.0</td>\n    </tr>\n    <tr>\n      <th>Mar</th>\n      <td>12.0</td>\n      <td>1954.5</td>\n      <td>3.605551</td>\n      <td>1949.0</td>\n      <td>1951.75</td>\n      <td>1954.5</td>\n      <td>1957.25</td>\n      <td>1960.0</td>\n      <td>12.0</td>\n      <td>270.166667</td>\n      <td>100.559194</td>\n      <td>132.0</td>\n      <td>189.25</td>\n      <td>251.5</td>\n      <td>357.50</td>\n      <td>419.0</td>\n    </tr>\n    <tr>\n      <th>May</th>\n      <td>12.0</td>\n      <td>1954.5</td>\n      <td>3.605551</td>\n      <td>1949.0</td>\n      <td>1951.75</td>\n      <td>1954.5</td>\n      <td>1957.25</td>\n      <td>1960.0</td>\n      <td>12.0</td>\n      <td>271.833333</td>\n      <td>114.739890</td>\n      <td>121.0</td>\n      <td>180.25</td>\n      <td>252.0</td>\n      <td>357.00</td>\n      <td>472.0</td>\n    </tr>\n    <tr>\n      <th>Nov</th>\n      <td>12.0</td>\n      <td>1954.5</td>\n      <td>3.605551</td>\n      <td>1949.0</td>\n      <td>1951.75</td>\n      <td>1954.5</td>\n      <td>1957.25</td>\n      <td>1960.0</td>\n      <td>12.0</td>\n      <td>232.833333</td>\n      <td>95.185783</td>\n      <td>104.0</td>\n      <td>165.50</td>\n      <td>220.0</td>\n      <td>306.25</td>\n      <td>390.0</td>\n    </tr>\n    <tr>\n      <th>Oct</th>\n      <td>12.0</td>\n      <td>1954.5</td>\n      <td>3.605551</td>\n      <td>1949.0</td>\n      <td>1951.75</td>\n      <td>1954.5</td>\n      <td>1957.25</td>\n      <td>1960.0</td>\n      <td>12.0</td>\n      <td>266.583333</td>\n      <td>110.744964</td>\n      <td>119.0</td>\n      <td>183.75</td>\n      <td>251.5</td>\n      <td>350.00</td>\n      <td>461.0</td>\n    </tr>\n    <tr>\n      <th>Sep</th>\n      <td>12.0</td>\n      <td>1954.5</td>\n      <td>3.605551</td>\n      <td>1949.0</td>\n      <td>1951.75</td>\n      <td>1954.5</td>\n      <td>1957.25</td>\n      <td>1960.0</td>\n      <td>12.0</td>\n      <td>302.416667</td>\n      <td>123.954140</td>\n      <td>136.0</td>\n      <td>202.75</td>\n      <td>285.5</td>\n      <td>404.00</td>\n      <td>508.0</td>\n    </tr>\n  </tbody>\n</table>\n</div>"
          },
          "metadata": {}
        }
      ]
    },
    {
      "cell_type": "code",
      "source": "voos_por_mes['passengers'].mean()",
      "metadata": {
        "trusted": true
      },
      "execution_count": 24,
      "outputs": [
        {
          "execution_count": 24,
          "output_type": "execute_result",
          "data": {
            "text/plain": "month\nApr    267.083333\nAug    351.083333\nDec    261.833333\nFeb    235.000000\nJan    241.750000\nJul    351.333333\nJun    311.666667\nMar    270.166667\nMay    271.833333\nNov    232.833333\nOct    266.583333\nSep    302.416667\nName: passengers, dtype: float64"
          },
          "metadata": {}
        }
      ]
    },
    {
      "cell_type": "code",
      "source": "pd.pivot_table(voos, index=['month', 'year']).transpose()",
      "metadata": {
        "trusted": true
      },
      "execution_count": 26,
      "outputs": [
        {
          "execution_count": 26,
          "output_type": "execute_result",
          "data": {
            "text/plain": "month       Apr                                               ...  Sep       \\\nyear       1949 1950 1951 1952 1953 1954 1955 1956 1957 1958  ... 1951 1952   \npassengers  129  135  163  181  235  227  269  313  348  348  ...  184  209   \n\nmonth                                               \nyear       1953 1954 1955 1956 1957 1958 1959 1960  \npassengers  237  259  312  355  404  404  463  508  \n\n[1 rows x 144 columns]",
            "text/html": "<div>\n<style scoped>\n    .dataframe tbody tr th:only-of-type {\n        vertical-align: middle;\n    }\n\n    .dataframe tbody tr th {\n        vertical-align: top;\n    }\n\n    .dataframe thead tr th {\n        text-align: left;\n    }\n</style>\n<table border=\"1\" class=\"dataframe\">\n  <thead>\n    <tr>\n      <th>month</th>\n      <th colspan=\"10\" halign=\"left\">Apr</th>\n      <th>...</th>\n      <th colspan=\"10\" halign=\"left\">Sep</th>\n    </tr>\n    <tr>\n      <th>year</th>\n      <th>1949</th>\n      <th>1950</th>\n      <th>1951</th>\n      <th>1952</th>\n      <th>1953</th>\n      <th>1954</th>\n      <th>1955</th>\n      <th>1956</th>\n      <th>1957</th>\n      <th>1958</th>\n      <th>...</th>\n      <th>1951</th>\n      <th>1952</th>\n      <th>1953</th>\n      <th>1954</th>\n      <th>1955</th>\n      <th>1956</th>\n      <th>1957</th>\n      <th>1958</th>\n      <th>1959</th>\n      <th>1960</th>\n    </tr>\n  </thead>\n  <tbody>\n    <tr>\n      <th>passengers</th>\n      <td>129</td>\n      <td>135</td>\n      <td>163</td>\n      <td>181</td>\n      <td>235</td>\n      <td>227</td>\n      <td>269</td>\n      <td>313</td>\n      <td>348</td>\n      <td>348</td>\n      <td>...</td>\n      <td>184</td>\n      <td>209</td>\n      <td>237</td>\n      <td>259</td>\n      <td>312</td>\n      <td>355</td>\n      <td>404</td>\n      <td>404</td>\n      <td>463</td>\n      <td>508</td>\n    </tr>\n  </tbody>\n</table>\n<p>1 rows × 144 columns</p>\n</div>"
          },
          "metadata": {}
        }
      ]
    },
    {
      "cell_type": "code",
      "source": "voos.transpose()",
      "metadata": {
        "trusted": true
      },
      "execution_count": 27,
      "outputs": [
        {
          "execution_count": 27,
          "output_type": "execute_result",
          "data": {
            "text/plain": "             0     1     2     3     4     5     6     7     8     9    ...  \\\nyear        1949  1949  1949  1949  1949  1949  1949  1949  1949  1949  ...   \nmonth        Jan   Feb   Mar   Apr   May   Jun   Jul   Aug   Sep   Oct  ...   \npassengers   112   118   132   129   121   135   148   148   136   119  ...   \n\n             134   135   136   137   138   139   140   141   142   143  \nyear        1960  1960  1960  1960  1960  1960  1960  1960  1960  1960  \nmonth        Mar   Apr   May   Jun   Jul   Aug   Sep   Oct   Nov   Dec  \npassengers   419   461   472   535   622   606   508   461   390   432  \n\n[3 rows x 144 columns]",
            "text/html": "<div>\n<style scoped>\n    .dataframe tbody tr th:only-of-type {\n        vertical-align: middle;\n    }\n\n    .dataframe tbody tr th {\n        vertical-align: top;\n    }\n\n    .dataframe thead th {\n        text-align: right;\n    }\n</style>\n<table border=\"1\" class=\"dataframe\">\n  <thead>\n    <tr style=\"text-align: right;\">\n      <th></th>\n      <th>0</th>\n      <th>1</th>\n      <th>2</th>\n      <th>3</th>\n      <th>4</th>\n      <th>5</th>\n      <th>6</th>\n      <th>7</th>\n      <th>8</th>\n      <th>9</th>\n      <th>...</th>\n      <th>134</th>\n      <th>135</th>\n      <th>136</th>\n      <th>137</th>\n      <th>138</th>\n      <th>139</th>\n      <th>140</th>\n      <th>141</th>\n      <th>142</th>\n      <th>143</th>\n    </tr>\n  </thead>\n  <tbody>\n    <tr>\n      <th>year</th>\n      <td>1949</td>\n      <td>1949</td>\n      <td>1949</td>\n      <td>1949</td>\n      <td>1949</td>\n      <td>1949</td>\n      <td>1949</td>\n      <td>1949</td>\n      <td>1949</td>\n      <td>1949</td>\n      <td>...</td>\n      <td>1960</td>\n      <td>1960</td>\n      <td>1960</td>\n      <td>1960</td>\n      <td>1960</td>\n      <td>1960</td>\n      <td>1960</td>\n      <td>1960</td>\n      <td>1960</td>\n      <td>1960</td>\n    </tr>\n    <tr>\n      <th>month</th>\n      <td>Jan</td>\n      <td>Feb</td>\n      <td>Mar</td>\n      <td>Apr</td>\n      <td>May</td>\n      <td>Jun</td>\n      <td>Jul</td>\n      <td>Aug</td>\n      <td>Sep</td>\n      <td>Oct</td>\n      <td>...</td>\n      <td>Mar</td>\n      <td>Apr</td>\n      <td>May</td>\n      <td>Jun</td>\n      <td>Jul</td>\n      <td>Aug</td>\n      <td>Sep</td>\n      <td>Oct</td>\n      <td>Nov</td>\n      <td>Dec</td>\n    </tr>\n    <tr>\n      <th>passengers</th>\n      <td>112</td>\n      <td>118</td>\n      <td>132</td>\n      <td>129</td>\n      <td>121</td>\n      <td>135</td>\n      <td>148</td>\n      <td>148</td>\n      <td>136</td>\n      <td>119</td>\n      <td>...</td>\n      <td>419</td>\n      <td>461</td>\n      <td>472</td>\n      <td>535</td>\n      <td>622</td>\n      <td>606</td>\n      <td>508</td>\n      <td>461</td>\n      <td>390</td>\n      <td>432</td>\n    </tr>\n  </tbody>\n</table>\n<p>3 rows × 144 columns</p>\n</div>"
          },
          "metadata": {}
        }
      ]
    },
    {
      "cell_type": "code",
      "source": "",
      "metadata": {},
      "execution_count": null,
      "outputs": []
    }
  ]
}